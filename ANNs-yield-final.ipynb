{
 "cells": [
  {
   "cell_type": "code",
   "execution_count": 6,
   "metadata": {
    "collapsed": true
   },
   "outputs": [],
   "source": [
    "#ANNs\n",
    "#protein yield prediction\n",
    "#Import all the packages\n",
    "import pandas as pd\n",
    "import numpy as np\n",
    "\n",
    "from sklearn.model_selection import cross_val_predict\n",
    "from sklearn.model_selection import cross_validate\n",
    "from sklearn.metrics import accuracy_score\n",
    "from sklearn.model_selection import KFold\n",
    "from sklearn.neural_network import MLPRegressor\n",
    "from sklearn.neural_network import MLPClassifier\n",
    "from sklearn.preprocessing import StandardScaler\n",
    "from sklearn.metrics import matthews_corrcoef\n",
    "from sklearn.metrics import average_precision_score\n",
    "from sklearn.metrics import make_scorer\n",
    "from sklearn import svm\n",
    "\n",
    "from os import walk"
   ]
  },
  {
   "cell_type": "code",
   "execution_count": 19,
   "metadata": {
    "collapsed": true
   },
   "outputs": [],
   "source": [
    "def Neural_Network_Prediciton(df,output=False):\n",
    "    #set the X(proteins) and y(soubility)\n",
    "    X = df.iloc[:,0:-1]\n",
    "    y = df.loc[:,'yield']\n",
    "    \n",
    "    # get binary data\n",
    "    yc = y\n",
    "    yc[y >= 0.2706] = True\n",
    "    yc[y < 0.2706] = False\n",
    "\n",
    "    X = X.as_matrix().astype(np.float)\n",
    "    y = y.as_matrix().astype(np.float)\n",
    "    yc = yc.as_matrix().astype(np.bool_)\n",
    "\n",
    "    #set 10 fold validation\n",
    "    kf = KFold(n_splits=10)\n",
    "\n",
    "    def mc_reg(y_true, y_pred):\n",
    "        y_true[y_true >= 0.2706] = True; y_true[y_true < 0.2706] = False\n",
    "        y_pred[y_pred >= 0.2706] = True; y_pred[y_pred < 0.2706] = False\n",
    "        return matthews_corrcoef(y_true, y_pred)\n",
    "    \n",
    "    def accracy_reg(y_true, y_pred):\n",
    "        y_true[y_true >= 0.2706] = True; y_true[y_true < 0.2706] = False\n",
    "        y_pred[y_pred >= 0.2706] = True; y_pred[y_pred < 0.2706] = False\n",
    "        return accuracy_score(y_true, y_pred)\n",
    "    \n",
    "    def precision_reg(y_true,y_pred):\n",
    "        y_true[y_true >= 0.2706] = True; y_true[y_true < 0.2706] = False\n",
    "        y_pred[y_pred >= 0.2706] = True; y_pred[y_pred < 0.2706] = False\n",
    "        return average_precision_score(y_true, y_pred)\n",
    "\n",
    "    #use the best results for prediction\n",
    "    clf = MLPClassifier(hidden_layer_sizes=(31, ),activation='relu',\n",
    "                       learning_rate='invscaling',learning_rate_init=0.003)\n",
    "    reg = MLPRegressor(hidden_layer_sizes=(31, ),activation='relu',\n",
    "                       learning_rate='invscaling',learning_rate_init=0.003)\n",
    "    \n",
    "    #define score method\n",
    "    method_binary = {'accuracy':'accuracy'}\n",
    "    method_original = {'accuracy':make_scorer(accracy_reg),'precision':make_scorer(precision_reg),'AUC':'roc_auc','MCC':make_scorer(mc_reg),'r2':'r2'}\n",
    "    \n",
    "    results_binary = cross_validate(clf, X, yc, cv=kf, scoring=method_binary, return_train_score=False)\n",
    "    results_original = cross_validate(reg, X, y, cv=kf, scoring=method_original, return_train_score=False)\n",
    "    \n",
    "    #out put the scores\n",
    "    scores = pd.DataFrame([[np.mean(results_binary['test_accuracy']),np.mean(results_original['test_accuracy']),np.mean(results_original['test_precision']),\n",
    "                                    np.mean(results_original['test_AUC']),np.mean(results_original['test_MCC']),\n",
    "                                    np.mean(results_original['test_r2'])]],\n",
    "                                    columns=['binary_accuracy','continuous_accuracy','precision','AUC','MCC','R2'])\n",
    "    \n",
    "    #output the predictions\n",
    "    # create an empty dictionary for output\n",
    "    predictions = {}\n",
    "    if output == True:\n",
    "        index = 0\n",
    "        for train, test in kf.split(X):\n",
    "            X_train, X_test, y_train, y_test = X[train], X[test], y[train], y[test]\n",
    "            reg.fit(X_train,y_train)\n",
    "            y_predict = reg.predict(X_test)\n",
    "            predictions[index] = pd.DataFrame(np.column_stack((y_predict,y_test)),columns=['Predicted','Original'])\n",
    "            index+=1\n",
    "        \n",
    "    return scores, predictions"
   ]
  },
  {
   "cell_type": "code",
   "execution_count": 20,
   "metadata": {
    "collapsed": true
   },
   "outputs": [],
   "source": [
    "#first defind the headers of the columns (the different proteins) and then load data into dataframe\n",
    "df_yield = pd.read_csv(\"Updated_data/cleanyieldN1.csv\",index_col=0,header=0)\n",
    "df_yield.dropna(axis=0,inplace=True)\n",
    "yield_results, predictions = Neural_Network_Prediciton(df_yield)\n"
   ]
  },
  {
   "cell_type": "code",
   "execution_count": 23,
   "metadata": {
    "collapsed": true
   },
   "outputs": [],
   "source": [
    "writer = pd.ExcelWriter('yield_result.xlsx', engine='xlsxwriter')\n",
    "yield_results.to_excel(writer,sheet_name='yield', startrow=0, startcol=0)"
   ]
  },
  {
   "cell_type": "code",
   "execution_count": 22,
   "metadata": {},
   "outputs": [
    {
     "data": {
      "text/html": [
       "<div>\n",
       "<style scoped>\n",
       "    .dataframe tbody tr th:only-of-type {\n",
       "        vertical-align: middle;\n",
       "    }\n",
       "\n",
       "    .dataframe tbody tr th {\n",
       "        vertical-align: top;\n",
       "    }\n",
       "\n",
       "    .dataframe thead th {\n",
       "        text-align: right;\n",
       "    }\n",
       "</style>\n",
       "<table border=\"1\" class=\"dataframe\">\n",
       "  <thead>\n",
       "    <tr style=\"text-align: right;\">\n",
       "      <th></th>\n",
       "      <th>binary_accuracy</th>\n",
       "      <th>continuous_accuracy</th>\n",
       "      <th>precision</th>\n",
       "      <th>AUC</th>\n",
       "      <th>MCC</th>\n",
       "      <th>R2</th>\n",
       "    </tr>\n",
       "  </thead>\n",
       "  <tbody>\n",
       "    <tr>\n",
       "      <th>0</th>\n",
       "      <td>0.581033</td>\n",
       "      <td>0.516076</td>\n",
       "      <td>0.504154</td>\n",
       "      <td>0.605651</td>\n",
       "      <td>0.093656</td>\n",
       "      <td>0.01403</td>\n",
       "    </tr>\n",
       "  </tbody>\n",
       "</table>\n",
       "</div>"
      ],
      "text/plain": [
       "   binary_accuracy  continuous_accuracy  precision       AUC       MCC  \\\n",
       "0         0.581033             0.516076   0.504154  0.605651  0.093656   \n",
       "\n",
       "        R2  \n",
       "0  0.01403  "
      ]
     },
     "execution_count": 22,
     "metadata": {},
     "output_type": "execute_result"
    }
   ],
   "source": [
    "yield_results "
   ]
  },
  {
   "cell_type": "code",
   "execution_count": null,
   "metadata": {
    "collapsed": true
   },
   "outputs": [],
   "source": []
  }
 ],
 "metadata": {
  "kernelspec": {
   "display_name": "Python 3",
   "language": "python",
   "name": "python3"
  },
  "language_info": {
   "codemirror_mode": {
    "name": "ipython",
    "version": 3
   },
   "file_extension": ".py",
   "mimetype": "text/x-python",
   "name": "python",
   "nbconvert_exporter": "python",
   "pygments_lexer": "ipython3",
   "version": "3.6.3"
  }
 },
 "nbformat": 4,
 "nbformat_minor": 2
}
